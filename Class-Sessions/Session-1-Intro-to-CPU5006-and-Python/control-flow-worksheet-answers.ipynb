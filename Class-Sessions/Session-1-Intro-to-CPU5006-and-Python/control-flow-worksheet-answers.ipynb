{
 "cells": [
  {
   "cell_type": "code",
   "execution_count": 4,
   "id": "9e5afeb6",
   "metadata": {},
   "outputs": [
    {
     "name": "stdout",
     "output_type": "stream",
     "text": [
      "8 is lesser than 12.\n"
     ]
    }
   ],
   "source": [
    "number_1 = 8\n",
    "number_2 = 12\n",
    "\n",
    "if number_1 > number_2:\n",
    "    print (f\"{number_1} is greater than {number_2}.\")\n",
    "elif number_1 < number_2:\n",
    "    print (f\"{number_1} is less than {number_2}.\")\n",
    "else:\n",
    "    print (f\"{number_1} and {number_2} are the same.\")"
   ]
  },
  {
   "cell_type": "code",
   "execution_count": 12,
   "id": "55be56db",
   "metadata": {},
   "outputs": [
    {
     "name": "stdout",
     "output_type": "stream",
     "text": [
      "You can become a Mobile App Developer\n"
     ]
    }
   ],
   "source": [
    "lang = input(\"What's the programming language you want to learn? \")\n",
    "\n",
    "match lang:\n",
    "    case \"Python\":\n",
    "        print (\"You can become a data scientist\")\n",
    "    case \"python\":\n",
    "        print (\"You can become a data scientist\")\n",
    "    case \"JavaScript\":\n",
    "        print (\"You can become a Web Developer\")\n",
    "    case \"Javascript\":\n",
    "        print (\"You can become a Web Developer\")\n",
    "    case \"javascript\":\n",
    "        print (\"You can become a Web Developer\")\n",
    "    case \"Java\":\n",
    "        print (\"You can become a Mobile App Developer\")\n",
    "    case \"java\":\n",
    "        print (\"You can become a Mobile App Developer\")\n",
    "    case _:\n",
    "        print (\"All languages are useful!\")"
   ]
  },
  {
   "cell_type": "code",
   "execution_count": 18,
   "id": "c129774c",
   "metadata": {},
   "outputs": [
    {
     "name": "stdout",
     "output_type": "stream",
     "text": [
      "1\n",
      "2\n",
      "3\n",
      "4\n",
      "5\n",
      "--------\n",
      "0\n",
      "1\n",
      "2\n",
      "3\n",
      "4\n",
      "5\n",
      "6\n",
      "7\n",
      "8\n",
      "9\n",
      "10\n"
     ]
    }
   ],
   "source": [
    "for i in range(1, 6):\n",
    "    print(i)\n",
    "\n",
    "i = 0\n",
    "\n",
    "print (\"--------\")\n",
    "\n",
    "while i <= 10:\n",
    "    print (i)\n",
    "    i += 1"
   ]
  }
 ],
 "metadata": {
  "kernelspec": {
   "display_name": "base",
   "language": "python",
   "name": "python3"
  },
  "language_info": {
   "codemirror_mode": {
    "name": "ipython",
    "version": 3
   },
   "file_extension": ".py",
   "mimetype": "text/x-python",
   "name": "python",
   "nbconvert_exporter": "python",
   "pygments_lexer": "ipython3",
   "version": "3.12.7"
  }
 },
 "nbformat": 4,
 "nbformat_minor": 5
}
