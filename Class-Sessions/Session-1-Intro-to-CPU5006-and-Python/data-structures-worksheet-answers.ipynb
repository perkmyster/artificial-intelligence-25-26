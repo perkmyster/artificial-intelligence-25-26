{
 "cells": [
  {
   "cell_type": "code",
   "execution_count": 3,
   "id": "42202553",
   "metadata": {},
   "outputs": [
    {
     "name": "stdout",
     "output_type": "stream",
     "text": [
      "10\n",
      "forty\n"
     ]
    }
   ],
   "source": [
    "my_list = [10, \"twenty\", 30, \"forty\", 50]\n",
    "\n",
    "print (my_list[0])\n",
    "print (my_list[3])"
   ]
  },
  {
   "cell_type": "code",
   "execution_count": 4,
   "id": "229246ba",
   "metadata": {},
   "outputs": [
    {
     "name": "stdout",
     "output_type": "stream",
     "text": [
      "[10, 'twenty', 30, 'forty', 50, 60]\n"
     ]
    }
   ],
   "source": [
    "my_list.append(60)\n",
    "print (my_list) "
   ]
  },
  {
   "cell_type": "code",
   "execution_count": 9,
   "id": "ef6e28a5",
   "metadata": {},
   "outputs": [
    {
     "name": "stdout",
     "output_type": "stream",
     "text": [
      "27\n"
     ]
    }
   ],
   "source": [
    "grid = [\n",
    "    [2, 4, 6],\n",
    "    [9, 18, 27]\n",
    "]\n",
    "\n",
    "print (grid[1][2])"
   ]
  },
  {
   "cell_type": "code",
   "execution_count": 11,
   "id": "fec53d94",
   "metadata": {},
   "outputs": [
    {
     "name": "stdout",
     "output_type": "stream",
     "text": [
      "2\n"
     ]
    }
   ],
   "source": [
    "my_tuple = [1, 2, 3, 4]\n",
    "\n",
    "print (my_tuple [1])"
   ]
  },
  {
   "cell_type": "code",
   "execution_count": 22,
   "id": "c073a912",
   "metadata": {},
   "outputs": [
    {
     "name": "stdout",
     "output_type": "stream",
     "text": [
      "Alex\n",
      "Maths\n"
     ]
    }
   ],
   "source": [
    "my_dict = {\n",
    "    \"name\": \"Alex\",\n",
    "    \"age\": 17,\n",
    "    \"subjects\": [\n",
    "        \"Maths\",\n",
    "        \"English\",\n",
    "        \"Computing\"\n",
    "    ]\n",
    "}\n",
    "\n",
    "print (my_dict [\"name\"]),\n",
    "print (my_dict [\"subjects\"][0])"
   ]
  }
 ],
 "metadata": {
  "kernelspec": {
   "display_name": "base",
   "language": "python",
   "name": "python3"
  },
  "language_info": {
   "codemirror_mode": {
    "name": "ipython",
    "version": 3
   },
   "file_extension": ".py",
   "mimetype": "text/x-python",
   "name": "python",
   "nbconvert_exporter": "python",
   "pygments_lexer": "ipython3",
   "version": "3.12.7"
  }
 },
 "nbformat": 4,
 "nbformat_minor": 5
}
