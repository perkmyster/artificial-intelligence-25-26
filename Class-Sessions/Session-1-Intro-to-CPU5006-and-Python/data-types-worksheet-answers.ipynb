{
 "cells": [
  {
   "cell_type": "code",
   "execution_count": 10,
   "id": "293402ff",
   "metadata": {},
   "outputs": [
    {
     "name": "stdout",
     "output_type": "stream",
     "text": [
      "Python 10 3.14 True\n"
     ]
    }
   ],
   "source": [
    "string_1 = \"Python\"\n",
    "int_1 = 10\n",
    "float_1 = 3.14\n",
    "boolean_1 = True\n",
    "\n",
    "print (string_1, int_1, float_1, boolean_1)"
   ]
  },
  {
   "cell_type": "code",
   "execution_count": 11,
   "id": "8de2e370",
   "metadata": {},
   "outputs": [
    {
     "name": "stdout",
     "output_type": "stream",
     "text": [
      "13\n",
      "7\n",
      "3.3333333333333335\n",
      "3\n",
      "1\n",
      "1000\n"
     ]
    }
   ],
   "source": [
    "a = 10\n",
    "b = 3\n",
    "\n",
    "print (a + b)\n",
    "print (a - b)\n",
    "print (a / b)\n",
    "print (a //b )\n",
    "print (a % b)\n",
    "print (a ** b)"
   ]
  }
 ],
 "metadata": {
  "kernelspec": {
   "display_name": "base",
   "language": "python",
   "name": "python3"
  },
  "language_info": {
   "codemirror_mode": {
    "name": "ipython",
    "version": 3
   },
   "file_extension": ".py",
   "mimetype": "text/x-python",
   "name": "python",
   "nbconvert_exporter": "python",
   "pygments_lexer": "ipython3",
   "version": "3.12.7"
  }
 },
 "nbformat": 4,
 "nbformat_minor": 5
}
